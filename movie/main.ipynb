{
 "cells": [
  {
   "cell_type": "code",
   "execution_count": 1,
   "metadata": {},
   "outputs": [
    {
     "name": "stdout",
     "output_type": "stream",
     "text": [
      "{'movie_name': '파묘', 'director': '장재현', 'grade': 97.0, 'release_date': datetime.date(2024, 2, 22)}\n"
     ]
    }
   ],
   "source": [
    "import pymysql\n",
    "\n",
    "# MySQL 데이터베이스 연결 설정\n",
    "db_config = {\n",
    "    'host': 'localhost',\n",
    "    'user': 'root',\n",
    "    'password': '0000',\n",
    "    'database': 'myDB',\n",
    "    'cursorclass': pymysql.cursors.DictCursor\n",
    "}\n",
    "\n",
    "# MySQL 데이터베이스 연결\n",
    "conn = pymysql.connect(**db_config)\n",
    "\n",
    "# 커서 생성\n",
    "cursor = conn.cursor()\n",
    "\n",
    "# 예제 쿼리: 사용자 테이블에서 모든 데이터를 선택\n",
    "query = \"SELECT * FROM movie\"\n",
    "\n",
    "# 쿼리 실행\n",
    "cursor.execute(query)\n",
    "\n",
    "# 결과 가져오기\n",
    "results = cursor.fetchall()\n",
    "\n",
    "# 결과 출력\n",
    "for row in results:\n",
    "    print(row)\n",
    "\n",
    "# 연결 및 커서 닫기\n",
    "cursor.close()\n",
    "conn.close()\n"
   ]
  },
  {
   "cell_type": "code",
   "execution_count": 37,
   "metadata": {},
   "outputs": [
    {
     "name": "stdout",
     "output_type": "stream",
     "text": [
      "<span class=\"percent\">99%</span>\n",
      "<span class=\"percent\">82%</span>\n",
      "<span class=\"percent\">96%</span>\n",
      "<span class=\"percent\">99%</span>\n",
      "<span class=\"percent\">99%</span>\n",
      "<span class=\"percent\">99%</span>\n",
      "<span class=\"percent\">95%</span>\n",
      "<span class=\"percent\">99%</span>\n",
      "<span class=\"percent\">90%</span>\n",
      "<span class=\"percent\">99%</span>\n",
      "<span class=\"percent\">99%</span>\n",
      "<span class=\"percent\">99%</span>\n",
      "<span class=\"percent\">98%</span>\n",
      "<span class=\"percent\">99%</span>\n",
      "<span class=\"percent\">99%</span>\n",
      "<span class=\"percent\">99%</span>\n",
      "<span class=\"percent\">99%</span>\n",
      "<span class=\"percent\">82%</span>\n",
      "<span class=\"percent\">90%</span>\n"
     ]
    }
   ],
   "source": [
    "from selenium import webdriver\n",
    "from bs4 import BeautifulSoup\n",
    "\n",
    "#영화 사이트 크롤링함 ㅋ\n",
    "url = \"http://www.cgv.co.kr/movies/?lt=1&ft=0\"\n",
    "start_url = \"http://www.cgv.co.kr\"\n",
    "\n",
    "\n",
    "driver = webdriver.Chrome()\n",
    "driver.get(url)\n",
    "driver.implicitly_wait(10)\n",
    "\n",
    "html = driver.page_source\n",
    "soup = BeautifulSoup(html)\n",
    "#현재 개봉한 영화 리스트를 가지고 있음\n",
    "movie_list = soup.select('.sect-movie-chart>ol>li>.box-contents')\n",
    "\n",
    "movie_information = []\n",
    "#현재 영화 데이터를 가지고 있는 a테그를 가지고 있음\n",
    "for i in movie_list:\n",
    "   movie_information.append(start_url + i.a.attrs['href'])\n",
    "  \n",
    "\n",
    "\n",
    "\n",
    "for moive in movie_information:\n",
    "    \n",
    "    driver.get(moive)\n",
    "    html = driver.page_source\n",
    "    soup = BeautifulSoup(html)\n",
    "    title = soup.select_one('.box-contents>.title>strong')\n",
    "    grade = soup.select_one('.box-contents>.score>.egg-gage>.percent')\n",
    "    print(grade)\n",
    "        \n",
    "\n",
    "\n",
    "driver.close()"
   ]
  }
 ],
 "metadata": {
  "kernelspec": {
   "display_name": "doomin",
   "language": "python",
   "name": "python3"
  },
  "language_info": {
   "codemirror_mode": {
    "name": "ipython",
    "version": 3
   },
   "file_extension": ".py",
   "mimetype": "text/x-python",
   "name": "python",
   "nbconvert_exporter": "python",
   "pygments_lexer": "ipython3",
   "version": "3.7.16"
  }
 },
 "nbformat": 4,
 "nbformat_minor": 2
}
